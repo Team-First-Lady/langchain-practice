{
 "cells": [
  {
   "cell_type": "code",
   "execution_count": 7,
   "id": "6fffa5f9",
   "metadata": {},
   "outputs": [
    {
     "data": {
      "text/plain": [
       "True"
      ]
     },
     "execution_count": 7,
     "metadata": {},
     "output_type": "execute_result"
    }
   ],
   "source": [
    "from dotenv import load_dotenv\n",
    "\n",
    "load_dotenv()"
   ]
  },
  {
   "cell_type": "code",
   "execution_count": 8,
   "id": "161ef55a",
   "metadata": {},
   "outputs": [],
   "source": [
    "from langchain_openai import ChatOpenAI\n",
    "llm = ChatOpenAI()\n"
   ]
  },
  {
   "cell_type": "code",
   "execution_count": 9,
   "id": "d3d5d5a8",
   "metadata": {},
   "outputs": [],
   "source": [
    "ai_message = llm.invoke(\"인프런에 어떤 강의가 있나요??\")"
   ]
  },
  {
   "cell_type": "code",
   "execution_count": 10,
   "id": "d9bd9481",
   "metadata": {},
   "outputs": [
    {
     "data": {
      "text/plain": [
       "'인프런은 다양한 주제와 분야의 강의를 제공하고 있습니다. 프로그래밍, 웹 개발, 데이터 분석, 디자인, 비즈니스, 마케팅, 투자 등 다양한 분야의 강의가 있으며, 전문가들이 직접 강의를 진행하고 있습니다. 또한 실무에 바로 적용할 수 있는 프로젝트형 강의와 인기 강좌들도 다양하게 제공되고 있습니다. 자신에게 맞는 강의를 선택하여 공부하고 실력을 향상시킬 수 있습니다. 또한, 유료 강의 뿐만 아니라 무료 강의도 다양하게 제공되고 있으니 원하는 주제나 분야의 강의를 찾아보세요.'"
      ]
     },
     "execution_count": 10,
     "metadata": {},
     "output_type": "execute_result"
    }
   ],
   "source": [
    "ai_message.content"
   ]
  },
  {
   "cell_type": "code",
   "execution_count": null,
   "id": "26222a5e",
   "metadata": {},
   "outputs": [],
   "source": []
  }
 ],
 "metadata": {
  "kernelspec": {
   "display_name": "llm-application",
   "language": "python",
   "name": "python3"
  },
  "language_info": {
   "codemirror_mode": {
    "name": "ipython",
    "version": 3
   },
   "file_extension": ".py",
   "mimetype": "text/x-python",
   "name": "python",
   "nbconvert_exporter": "python",
   "pygments_lexer": "ipython3",
   "version": "3.10.0"
  }
 },
 "nbformat": 4,
 "nbformat_minor": 5
}
