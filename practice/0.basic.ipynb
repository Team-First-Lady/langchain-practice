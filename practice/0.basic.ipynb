{
 "cells": [
  {
   "cell_type": "code",
   "execution_count": 5,
   "id": "ef6ec292",
   "metadata": {},
   "outputs": [
    {
     "name": "stdout",
     "output_type": "stream",
     "text": [
      "\u001b[33mWARNING: You are using pip version 21.2.3; however, version 25.2 is available.\n",
      "You should consider upgrading via the '/Users/junhowoo/.pyenv/versions/3.10.0/envs/llm-application/bin/python -m pip install --upgrade pip' command.\u001b[0m\n",
      "Note: you may need to restart the kernel to use updated packages.\n"
     ]
    }
   ],
   "source": [
    "%pip install -q langchain-ollama langchain-openai"
   ]
  },
  {
   "cell_type": "code",
   "execution_count": 3,
   "id": "f46a5cea",
   "metadata": {},
   "outputs": [
    {
     "data": {
      "text/plain": [
       "AIMessage(content=\"<think>\\nAlright, I need to figure out what the capital of France is. I know France is a country in Europe, but I'm not exactly sure about its capital. Let me think... I remember that some countries have capitals like London or Paris. Maybe it's one of those.\\n\\nI recall that Germany has Berlin as its capital, and Spain has Madrid. So, if I'm looking for another European capital, maybe France's is a bit more specific. I think the capital isn't a city but rather a country within France itself. \\n\\nWait, so it's not a proper city. That makes sense because I don't know any major cities named after France. I remember hearing about the Eiffel Tower and the Louvre in Paris, which are famous landmarks, but not capitals.\\n\\nSo putting that together, the capital of France is Paris. It must be both the country and the city within France. Yeah, that fits with what I know. I don't think there's a second capital or anything like that.\\n</think>\\n\\nThe capital of France is Paris.\", additional_kwargs={}, response_metadata={'model': 'deepseek-r1:1.5b', 'created_at': '2025-08-21T09:31:09.532506Z', 'done': True, 'done_reason': 'stop', 'total_duration': 14597313875, 'load_duration': 12583599958, 'prompt_eval_count': 9, 'prompt_eval_duration': 159630459, 'eval_count': 217, 'eval_duration': 1853440041, 'model_name': 'deepseek-r1:1.5b'}, id='run--3f3a7973-e003-490e-bdff-c99c0ead23ba-0', usage_metadata={'input_tokens': 9, 'output_tokens': 217, 'total_tokens': 226})"
      ]
     },
     "execution_count": 3,
     "metadata": {},
     "output_type": "execute_result"
    }
   ],
   "source": [
    "from langchain_ollama import ChatOllama\n",
    "\n",
    "llm = ChatOllama(model=\"deepseek-r1:1.5b\")\n",
    "llm.invoke(\"What is the capital of France\")"
   ]
  },
  {
   "cell_type": "code",
   "execution_count": 4,
   "id": "b66570c1",
   "metadata": {},
   "outputs": [
    {
     "data": {
      "text/plain": [
       "True"
      ]
     },
     "execution_count": 4,
     "metadata": {},
     "output_type": "execute_result"
    }
   ],
   "source": [
    "from dotenv import load_dotenv\n",
    "load_dotenv()"
   ]
  },
  {
   "cell_type": "code",
   "execution_count": null,
   "id": "cf48b3fe",
   "metadata": {},
   "outputs": [
    {
     "data": {
      "text/plain": [
       "AIMessage(content='The capital of France is Paris.', additional_kwargs={'refusal': None}, response_metadata={'token_usage': {'completion_tokens': 7, 'prompt_tokens': 14, 'total_tokens': 21, 'completion_tokens_details': {'accepted_prediction_tokens': 0, 'audio_tokens': 0, 'reasoning_tokens': 0, 'rejected_prediction_tokens': 0}, 'prompt_tokens_details': {'audio_tokens': 0, 'cached_tokens': 0}}, 'model_name': 'gpt-4o-2024-08-06', 'system_fingerprint': 'fp_46bff0e0c8', 'id': 'chatcmpl-C6vxPsDQv8vpaUo6Ke5pDGRMdya7r', 'service_tier': 'default', 'finish_reason': 'stop', 'logprobs': None}, id='run--25e49cd5-03b5-4ea8-83d1-447f7da3c62f-0', usage_metadata={'input_tokens': 14, 'output_tokens': 7, 'total_tokens': 21, 'input_token_details': {'audio': 0, 'cache_read': 0}, 'output_token_details': {'audio': 0, 'reasoning': 0}})"
      ]
     },
     "execution_count": 6,
     "metadata": {},
     "output_type": "execute_result"
    }
   ],
   "source": [
    "# from langchain_openai import ChatOpenAI\n",
    "\n",
    "# llm = ChatOpenAI(model=\"gpt-4o\")\n",
    "# llm.invoke(\"What is the capital of Frace\")"
   ]
  },
  {
   "cell_type": "code",
   "execution_count": null,
   "id": "675adcc6",
   "metadata": {},
   "outputs": [],
   "source": [
    "from langchain_core.prompts import PromptTemplate\n",
    "\n",
    "prompt_template = PromptTemplate(\n",
    "    template=\"What is the capital of {country}?\"\n",
    "    input_variables=[\"country\"],\n",
    ")"
   ]
  }
 ],
 "metadata": {
  "kernelspec": {
   "display_name": "llm-application",
   "language": "python",
   "name": "python3"
  },
  "language_info": {
   "codemirror_mode": {
    "name": "ipython",
    "version": 3
   },
   "file_extension": ".py",
   "mimetype": "text/x-python",
   "name": "python",
   "nbconvert_exporter": "python",
   "pygments_lexer": "ipython3",
   "version": "3.10.0"
  }
 },
 "nbformat": 4,
 "nbformat_minor": 5
}
